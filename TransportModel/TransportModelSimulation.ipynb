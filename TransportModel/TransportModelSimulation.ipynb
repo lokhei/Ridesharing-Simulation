{
 "cells": [
  {
   "cell_type": "code",
   "execution_count": 94,
   "metadata": {},
   "outputs": [
    {
     "name": "stdout",
     "output_type": "stream",
     "text": [
      "The autoreload extension is already loaded. To reload it, use:\n",
      "  %reload_ext autoreload\n"
     ]
    }
   ],
   "source": [
    "from TransportModel import TransportModel\n",
    "import matplotlib.pyplot as plt\n",
    "%load_ext autoreload\n",
    "%autoreload 2"
   ]
  },
  {
   "cell_type": "code",
   "execution_count": 229,
   "metadata": {},
   "outputs": [
    {
     "name": "stdout",
     "output_type": "stream",
     "text": [
      "Agent 1: Location(x=0, y=7) to Location(x=2, y=1)\n",
      "Agent 2: Location(x=2, y=1) to Location(x=2, y=6)\n",
      "Destination Reached\n",
      "WAIT:  8\n",
      "Agent 5: Location(x=8, y=6) to Location(x=7, y=3)\n",
      "Destination Reached\n",
      "Waited too long - passenger 2 has left\n",
      "Destination Reached\n",
      "Waiting for new client\n",
      "Destination Reached\n",
      "Waiting for new client\n",
      "Destination Reached\n",
      "Waiting for new client\n",
      "Agent 6: Location(x=9, y=4) to Location(x=2, y=7)\n",
      "Waited too long - passenger 5 has left\n",
      "Agent 7: Location(x=2, y=4) to Location(x=4, y=0)\n",
      "Destination Reached\n",
      "WAIT:  10\n",
      "Agent 9: Location(x=2, y=6) to Location(x=2, y=0)\n",
      "Destination Reached\n",
      "Destination Reached\n",
      "WAIT:  1\n",
      "Waited too long - passenger 7 has left\n",
      "Destination Reached\n",
      "Waiting for new client\n",
      "Destination Reached\n",
      "Waiting for new client\n",
      "Destination Reached\n",
      "Waiting for new client\n",
      "Agent 11: Location(x=2, y=9) to Location(x=8, y=4)\n",
      "Destination Reached\n",
      "WAIT:  9\n",
      "Agent 13: Location(x=4, y=2) to Location(x=4, y=6)\n",
      "Agent 14: Location(x=8, y=6) to Location(x=5, y=8)\n",
      "Destination Reached\n",
      "Destination Reached\n",
      "WAIT:  2\n",
      "Waited too long - passenger 13 has left\n",
      "Destination Reached\n",
      "Waiting for new client\n",
      "Destination Reached\n",
      "Waiting for new client\n",
      "Destination Reached\n",
      "Waiting for new client\n",
      "Agent 16: Location(x=9, y=8) to Location(x=1, y=2)\n",
      "Destination Reached\n",
      "WAIT:  4\n",
      "Agent 18: Location(x=8, y=3) to Location(x=7, y=1)\n",
      "Waited too long - passenger 18 has left\n",
      "Destination Reached\n",
      "Waiting for new client\n",
      "Destination Reached\n",
      "Waiting for new client\n",
      "Agent 19: Location(x=9, y=7) to Location(x=7, y=8)\n",
      "Destination Reached\n",
      "Waiting for new client\n",
      "Destination Reached\n",
      "Waiting for new client\n",
      "Destination Reached\n",
      "Waiting for new client\n",
      "Destination Reached\n",
      "Waiting for new client\n",
      "Destination Reached\n",
      "Waiting for new client\n",
      "Destination Reached\n",
      "Waiting for new client\n",
      "Destination Reached\n",
      "Waiting for new client\n",
      "Destination Reached\n",
      "Waiting for new client\n",
      "Destination Reached\n",
      "Waiting for new client\n",
      "Destination Reached\n",
      "Waiting for new client\n",
      "Agent 20: Location(x=1, y=6) to Location(x=9, y=6)\n",
      "Waited too long - passenger 19 has left\n",
      "Destination Reached\n",
      "WAIT:  4\n",
      "Agent 22: Location(x=8, y=8) to Location(x=2, y=0)\n",
      "Destination Reached\n",
      "Destination Reached\n",
      "WAIT:  5\n",
      "Agent 24: Location(x=5, y=5) to Location(x=2, y=4)\n",
      "Destination Reached\n",
      "Waiting for new client\n",
      "Agent 25: Location(x=1, y=1) to Location(x=7, y=5)\n",
      "Destination Reached\n",
      "WAIT:  2\n",
      "Waited too long - passenger 24 has left\n",
      "Agent 27: Location(x=9, y=7) to Location(x=6, y=3)\n",
      "Destination Reached\n",
      "Destination Reached\n",
      "WAIT:  6\n",
      "Agent 29: Location(x=7, y=3) to Location(x=5, y=3)\n",
      "Destination Reached\n",
      "Destination Reached\n",
      "WAIT:  4\n",
      "Destination Reached\n",
      "Waiting for new client\n",
      "Destination Reached\n",
      "Waiting for new client\n",
      "Destination Reached\n",
      "Waiting for new client\n",
      "Destination Reached\n",
      "Waiting for new client\n",
      "Agent 31: Location(x=0, y=7) to Location(x=7, y=7)\n",
      "Destination Reached\n",
      "WAIT:  9\n",
      "Agent 33: Location(x=3, y=1) to Location(x=3, y=6)\n",
      "Destination Reached\n",
      "Waiting for new client\n",
      "Destination Reached\n",
      "Waiting for new client\n",
      "Destination Reached\n",
      "Waiting for new client\n",
      "Destination Reached\n",
      "Waiting for new client\n",
      "Agent 34: Location(x=5, y=0) to Location(x=3, y=9)\n",
      "Waited too long - passenger 33 has left\n",
      "Destination Reached\n",
      "WAIT:  9\n",
      "Agent 36: Location(x=8, y=2) to Location(x=9, y=2)\n"
     ]
    }
   ],
   "source": [
    "model = TransportModel(2, 1, 10, 10)\n",
    "for i in range(200):\n",
    "    model.step()"
   ]
  },
  {
   "cell_type": "code",
   "execution_count": 231,
   "metadata": {},
   "outputs": [],
   "source": [
    "agents = model.datacollector.get_agent_vars_dataframe()"
   ]
  },
  {
   "cell_type": "code",
   "execution_count": 232,
   "metadata": {},
   "outputs": [
    {
     "data": {
      "text/html": [
       "<div>\n",
       "<style scoped>\n",
       "    .dataframe tbody tr th:only-of-type {\n",
       "        vertical-align: middle;\n",
       "    }\n",
       "\n",
       "    .dataframe tbody tr th {\n",
       "        vertical-align: top;\n",
       "    }\n",
       "\n",
       "    .dataframe thead th {\n",
       "        text-align: right;\n",
       "    }\n",
       "</style>\n",
       "<table border=\"1\" class=\"dataframe\">\n",
       "  <thead>\n",
       "    <tr style=\"text-align: right;\">\n",
       "      <th></th>\n",
       "      <th>WaitingTime</th>\n",
       "    </tr>\n",
       "    <tr>\n",
       "      <th>AgentID</th>\n",
       "      <th></th>\n",
       "    </tr>\n",
       "  </thead>\n",
       "  <tbody>\n",
       "    <tr>\n",
       "      <th>1</th>\n",
       "      <td>8.0</td>\n",
       "    </tr>\n",
       "    <tr>\n",
       "      <th>6</th>\n",
       "      <td>10.0</td>\n",
       "    </tr>\n",
       "    <tr>\n",
       "      <th>9</th>\n",
       "      <td>1.0</td>\n",
       "    </tr>\n",
       "    <tr>\n",
       "      <th>11</th>\n",
       "      <td>9.0</td>\n",
       "    </tr>\n",
       "    <tr>\n",
       "      <th>14</th>\n",
       "      <td>2.0</td>\n",
       "    </tr>\n",
       "    <tr>\n",
       "      <th>20</th>\n",
       "      <td>4.0</td>\n",
       "    </tr>\n",
       "    <tr>\n",
       "      <th>27</th>\n",
       "      <td>6.0</td>\n",
       "    </tr>\n",
       "    <tr>\n",
       "      <th>29</th>\n",
       "      <td>4.0</td>\n",
       "    </tr>\n",
       "  </tbody>\n",
       "</table>\n",
       "</div>"
      ],
      "text/plain": [
       "         WaitingTime\n",
       "AgentID             \n",
       "1                8.0\n",
       "6               10.0\n",
       "9                1.0\n",
       "11               9.0\n",
       "14               2.0\n",
       "20               4.0\n",
       "27               6.0\n",
       "29               4.0"
      ]
     },
     "execution_count": 232,
     "metadata": {},
     "output_type": "execute_result"
    }
   ],
   "source": [
    "waiting = agents.dropna(subset=\"WaitingTime\")\n",
    "waiting = waiting[waiting.WaitingTime != -1]\n",
    "\n",
    "\n",
    "waiting.reset_index(level=[0], inplace=True)\n",
    "waiting.drop([\"Step\", \"Steps\"], axis=1, inplace=True)\n",
    "\n",
    "waiting\n",
    "\n"
   ]
  },
  {
   "cell_type": "code",
   "execution_count": 233,
   "metadata": {},
   "outputs": [
    {
     "data": {
      "text/plain": [
       "<AxesSubplot: xlabel='AgentID'>"
      ]
     },
     "execution_count": 233,
     "metadata": {},
     "output_type": "execute_result"
    },
    {
     "data": {
      "image/png": "[encoded data removed]",
      "text/plain": [
       "<Figure size 640x480 with 1 Axes>"
      ]
     },
     "metadata": {},
     "output_type": "display_data"
    }
   ],
   "source": [
    "waiting.plot()"
   ]
  }
 ],
 "metadata": {
  "kernelspec": {
   "display_name": "Python 3",
   "language": "python",
   "name": "python3"
  },
  "language_info": {
   "codemirror_mode": {
    "name": "ipython",
    "version": 3
   },
   "file_extension": ".py",
   "mimetype": "text/x-python",
   "name": "python",
   "nbconvert_exporter": "python",
   "pygments_lexer": "ipython3",
   "version": "3.10.7"
  },
  "orig_nbformat": 4,
  "vscode": {
   "interpreter": {
    "hash": "d6874bb8fad6561eb9cff5f3e1df84804949a8a47b8dab4a04974f950f743de0"
   }
  }
 },
 "nbformat": 4,
 "nbformat_minor": 2
}
